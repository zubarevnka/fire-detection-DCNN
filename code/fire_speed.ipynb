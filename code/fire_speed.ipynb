{
 "cells": [
  {
   "cell_type": "markdown",
   "metadata": {},
   "source": [
    "# Обнаружение пожаров по фото и видео\n",
    "### определение оптимальной скорости обучения"
   ]
  },
  {
   "cell_type": "code",
   "execution_count": 1,
   "metadata": {},
   "outputs": [],
   "source": [
    "import matplotlib\n",
    "from tensorflow.keras.preprocessing.image import ImageDataGenerator\n",
    "from tensorflow.keras.optimizers import SGD\n",
    "from tensorflow.keras.utils import to_categorical\n",
    "from sklearn.model_selection import train_test_split\n",
    "from sklearn.metrics import classification_report\n",
    "\n",
    "import matplotlib.pyplot as plt\n",
    "%matplotlib inline \n",
    "\n",
    "import numpy as np\n",
    "import argparse\n",
    "\n",
    "import sys"
   ]
  },
  {
   "cell_type": "code",
   "execution_count": 2,
   "metadata": {},
   "outputs": [],
   "source": [
    "import cv2"
   ]
  },
  {
   "cell_type": "code",
   "execution_count": 3,
   "metadata": {},
   "outputs": [],
   "source": [
    "from imutils import paths"
   ]
  },
  {
   "cell_type": "code",
   "execution_count": 4,
   "metadata": {},
   "outputs": [],
   "source": [
    "import os"
   ]
  },
  {
   "cell_type": "markdown",
   "metadata": {},
   "source": [
    "## Подготовка данных"
   ]
  },
  {
   "cell_type": "code",
   "execution_count": 5,
   "metadata": {},
   "outputs": [],
   "source": [
    "FIRE_PATH = \"C:/Users/Marinka/Desktop/pract/fire-detection/fire\"\n",
    "NO_FIRE_PATH = \"C:/Users/Marinka/Desktop/pract/fire-detection/nofire\""
   ]
  },
  {
   "cell_type": "code",
   "execution_count": 6,
   "metadata": {},
   "outputs": [],
   "source": [
    "# инициализировать метки классов в наборе данных\n",
    "CLASSES_NAMES = [\"NoFire\", \"Fire\"]\n",
    "\n",
    "# начальная скорость обучения\n",
    "SPEED = 1e-10 #0.01 = 1e-2"
   ]
  },
  {
   "cell_type": "code",
   "execution_count": 7,
   "metadata": {},
   "outputs": [],
   "source": [
    "# функция, которая принимает путь к набору данных\n",
    "def load_dataset(datasetPath):\n",
    "    # путь к изображениям\n",
    "    imagePaths = list(paths.list_images(datasetPath))\n",
    "    data = []\n",
    "\n",
    "    for imagePath in imagePaths:\n",
    "        # загрузка изображений и изменение их размеров до 128x128 пикселей, \n",
    "        # игнорируя соотношение сторон\n",
    "        image = cv2.imread(imagePath)\n",
    "        image = cv2.resize(image, (224, 224))\n",
    "\n",
    "        # добавить изображение в список data\n",
    "        data.append(image)\n",
    "\n",
    "    # array возвращает список data  в формате массива NumPy\n",
    "    return np.array(data, dtype=\"float32\")"
   ]
  },
  {
   "cell_type": "code",
   "execution_count": null,
   "metadata": {},
   "outputs": [],
   "source": [
    "import numpy as np\n",
    "# загрузка изображений с огнем и без огня\n",
    "fireData = load_dataset(FIRE_PATH)\n",
    "noFireData = load_dataset(NO_FIRE_PATH)\n",
    "\n",
    "# конструирование меток для классов, 1 - пожар, 0 -нет пожара\n",
    "fireLabels = np.ones((fireData.shape[0],))\n",
    "noFireLabels = np.zeros((noFireData.shape[0],))\n",
    "\n",
    "# функция vstack() соединяет массивы по вертикали\n",
    "data = np.vstack([fireData, noFireData])\n",
    "# функция hstack() соединяет массивы по горизонтали\n",
    "labels = np.hstack([fireLabels, noFireLabels])\n",
    "\n",
    "# масштабировать интенсивность пикселей до диапазона [0, 1]\n",
    "data /= 255"
   ]
  },
  {
   "cell_type": "code",
   "execution_count": null,
   "metadata": {},
   "outputs": [],
   "source": [
    "# преобразование правильных ответов в формат one hot encoding\n",
    "labels = to_categorical(labels, num_classes=2)"
   ]
  },
  {
   "cell_type": "code",
   "execution_count": null,
   "metadata": {},
   "outputs": [],
   "source": [
    "# создание баланса\n",
    "classTotal= labels.sum(axis=0) # cуммируются значения по оси 0 (по столбцам)\n",
    "classWeight = classTotal.max() / classTotal"
   ]
  },
  {
   "cell_type": "code",
   "execution_count": null,
   "metadata": {},
   "outputs": [],
   "source": [
    "# размер выборки валидации\n",
    "VAL_SIZE = 0.2"
   ]
  },
  {
   "cell_type": "code",
   "execution_count": null,
   "metadata": {},
   "outputs": [],
   "source": [
    "# разделение на выборку для обучения и выборку для валидации\n",
    "#x_train -изображения, y_train -метки для обозначения класса\n",
    "(x_train, x_val, y_train, y_val) = train_test_split(data, labels,\n",
    "    test_size=VAL_SIZE, \n",
    "    random_state=42\n",
    "  )"
   ]
  },
  {
   "cell_type": "markdown",
   "metadata": {},
   "source": [
    "## Создание нейронной сети"
   ]
  },
  {
   "cell_type": "code",
   "execution_count": null,
   "metadata": {},
   "outputs": [],
   "source": [
    "from tensorflow.keras.models import Sequential\n",
    "from tensorflow.keras.layers import BatchNormalization\n",
    "from tensorflow.keras.layers import Conv2D\n",
    "from tensorflow.keras.layers import MaxPooling2D\n",
    "from tensorflow.keras.layers import Activation\n",
    "from tensorflow.keras.layers import Flatten\n",
    "from tensorflow.keras.layers import Dropout\n",
    "from tensorflow.keras.layers import Dense"
   ]
  },
  {
   "cell_type": "code",
   "execution_count": null,
   "metadata": {},
   "outputs": [],
   "source": [
    "# DCNN\n",
    "model = Sequential()\n",
    "inputShape = (128, 128, 3)\n",
    "chanDim = -1\n",
    "\n",
    "# CONV -> CONV -> CONV ->POOL\n",
    "# Первый сверточный слой\n",
    "model.add(Conv2D(8, (3, 3), padding=\"same\", \n",
    "     input_shape=inputShape))\n",
    "model.add(Activation(\"relu\"))\n",
    "# Пакетная нормализация \n",
    "model.add(BatchNormalization(axis=chanDim)) \n",
    "# Второй сверточный слой\n",
    "model.add(Conv2D(8, (3, 3), padding=\"same\"))\n",
    "model.add(Activation(\"relu\"))\n",
    "# Пакетная нормализация \n",
    "model.add(BatchNormalization(axis=chanDim)) \n",
    "# Третий сверточный слой\n",
    "model.add(Conv2D(8, (3, 3), padding=\"same\"))\n",
    "model.add(Activation(\"relu\"))\n",
    "# Пакетная нормализация \n",
    "model.add(BatchNormalization(axis=chanDim)) \n",
    "# Первый слой подвыборки\n",
    "model.add(MaxPooling2D(pool_size=(2, 2)))\n",
    "\n",
    "\n",
    "# CONV -> CONV -> POOL\n",
    "# Четвертый сверточный слой\n",
    "model.add(Conv2D(16, (3, 3), padding=\"same\")) \n",
    "model.add(Activation(\"relu\"))\n",
    "#Пакетная нормализация\n",
    "model.add(BatchNormalization(axis=chanDim))\n",
    "# Пятый сверточный слой\n",
    "model.add(Conv2D(16, (3, 3), padding=\"same\")) \n",
    "model.add(Activation(\"relu\"))\n",
    "#Пакетная нормализация\n",
    "model.add(BatchNormalization(axis=chanDim))\n",
    "# Второй слой подвыборки\n",
    "model.add(MaxPooling2D(pool_size=(2, 2)))\n",
    "\n",
    "# CONV -> CONV -> POOL\n",
    "# Шестой сверточный слой\n",
    "model.add(Conv2D(32, (3, 3), padding=\"same\")) \n",
    "model.add(Activation(\"relu\"))\n",
    "#Пакетная нормализация\n",
    "model.add(BatchNormalization(axis=chanDim))\n",
    "# Седьмой сверточный слой\n",
    "model.add(Conv2D(32, (3, 3), padding=\"same\")) \n",
    "model.add(Activation(\"relu\"))\n",
    "#Пакетная нормализация\n",
    "model.add(BatchNormalization(axis=chanDim))\n",
    "# Третий слой подвыборки\n",
    "model.add(MaxPooling2D(pool_size=(2, 2)))\n",
    "\n",
    "# CONV -> CONV -> POOL\n",
    "# Восьмой сверточный слой\n",
    "model.add(Conv2D(64, (3, 3), padding=\"same\")) \n",
    "model.add(Activation(\"relu\"))\n",
    "#Пакетная нормализация\n",
    "model.add(BatchNormalization(axis=chanDim))\n",
    "# Девятый сверточный слой\n",
    "model.add(Conv2D(64, (3, 3), padding=\"same\")) \n",
    "model.add(Activation(\"relu\"))\n",
    "#Пакетная нормализация\n",
    "model.add(BatchNormalization(axis=chanDim))\n",
    "# Четвертый слой подвыборки\n",
    "model.add(MaxPooling2D(pool_size=(2, 2)))\n",
    "\n",
    "# CONV -> CONV -> POOL\n",
    "# Десятый сверточный слой\n",
    "model.add(Conv2D(128, (3, 3), padding=\"same\"))\n",
    "model.add(Activation(\"relu\"))\n",
    "# Пакетная нормализация\n",
    "model.add(BatchNormalization(axis=chanDim))\n",
    "# Одиннадцатый сверточный слой\n",
    "model.add(Conv2D(128, (3, 3), padding=\"same\"))\n",
    "model.add(Activation(\"relu\"))\n",
    "# Пакетная нормализация\n",
    "model.add(BatchNormalization(axis=chanDim))\n",
    "# Пятый слой подвыборки\n",
    "model.add(MaxPooling2D(pool_size=(2, 2)))\n",
    "\n",
    "# СLASSIFIER\n",
    "# Слой преобразования данных из 2D представления в плоское\n",
    "model.add(Flatten())\n",
    "# Первый полносвязный слой для классификации\n",
    "model.add(Dense(256))\n",
    "model.add(Activation(\"relu\"))\n",
    "# Пакетная нормализация\n",
    "model.add(BatchNormalization())\n",
    "# Слой регуляризации Dropout\n",
    "model.add(Dropout(0.5))\n",
    "# Второй полносвязный слой\n",
    "model.add(Dense(256))\n",
    "model.add(Activation(\"relu\"))\n",
    "# Пакетная нормализация\n",
    "model.add(BatchNormalization())\n",
    "# Слой регуляризации Dropout\n",
    "model.add(Dropout(0.5))\n",
    "# Выходной слой\n",
    "model.add(Dense(2))\n",
    "model.add(Activation(\"softmax\"))"
   ]
  },
  {
   "cell_type": "code",
   "execution_count": null,
   "metadata": {},
   "outputs": [],
   "source": [
    "EPOCHS = 55\n",
    "BATCH_SIZE = 64 #Размер минивыборки, те изменяем веса нейронных сетей после того, как обрабатываем каждые 64 объекта"
   ]
  },
  {
   "cell_type": "code",
   "execution_count": null,
   "metadata": {},
   "outputs": [],
   "source": [
    "# дополнительные обучающие данные\n",
    "datagen = ImageDataGenerator(\n",
    "    rotation_range=25,\n",
    "    zoom_range=0.15,\n",
    "    width_shift_range=0.2,\n",
    "    height_shift_range=0.2,\n",
    "    horizontal_flip=True,\n",
    "    fill_mode=\"reflect\")\n",
    "\n",
    "\n",
    "# сеть задана, нужно ее скомпилировать\n",
    "model.compile(loss=\"binary_crossentropy\", \n",
    "              optimizer=SGD(lr=SPEED, momentum=0.9, decay= SPEED / EPOCHS),\n",
    "              metrics=[\"accuracy\"])"
   ]
  },
  {
   "cell_type": "code",
   "execution_count": 17,
   "metadata": {},
   "outputs": [],
   "source": [
    "# # информация о сети\n",
    "# print(model.summary())"
   ]
  },
  {
   "cell_type": "markdown",
   "metadata": {},
   "source": [
    "## Скорость обучения, определение оптимальной"
   ]
  },
  {
   "cell_type": "code",
   "execution_count": null,
   "metadata": {},
   "outputs": [],
   "source": [
    "from tensorflow.keras.callbacks import LambdaCallback\n",
    "from tensorflow.keras import backend as K\n",
    "import matplotlib.pyplot as plt\n",
    "import numpy as np\n",
    "import tempfile\n",
    "\n",
    "class LearningRateFinder:\n",
    "    def __init__(self, model, stopFactor=4, beta=0.98):\n",
    "        self.model = model\n",
    "        self.stopFactor = stopFactor\n",
    "        self.beta = beta\n",
    "        self.lrs = []\n",
    "        self.losses = []\n",
    "        self.lrMult = 1\n",
    "        self.avgLoss = 0\n",
    "        self.bestLoss = 1e9\n",
    "        self.batchNum = 0\n",
    "        self.weightsFile = None\n",
    "\n",
    "    def reset(self):\n",
    "        self.lrs = []\n",
    "        self.losses = []\n",
    "        self.lrMult = 1\n",
    "        self.avgLoss = 0\n",
    "        self.bestLoss = 1e9\n",
    "        self.batchNum = 0\n",
    "        self.weightsFile = None\n",
    "\n",
    "    def is_data_iter(self, data):\n",
    "        iterClasses = [\"NumpyArrayIterator\", \"DirectoryIterator\",\n",
    "             \"DataFrameIterator\", \"Iterator\", \"Sequence\"]\n",
    "\n",
    "        return data.__class__.__name__ in iterClasses\n",
    "\n",
    "    def on_batch_end(self, batch, logs):\n",
    "        lr = K.get_value(self.model.optimizer.lr)\n",
    "        self.lrs.append(lr)\n",
    "        l = logs[\"loss\"]\n",
    "        self.batchNum += 1\n",
    "        self.avgLoss = (self.beta * self.avgLoss) + ((1 - self.beta) * l)\n",
    "        smooth = self.avgLoss / (1 - (self.beta ** self.batchNum))\n",
    "        self.losses.append(smooth)\n",
    "        stopLoss = self.stopFactor * self.bestLoss\n",
    "        if self.batchNum > 1 and smooth > stopLoss:\n",
    "            self.model.stop_training = True\n",
    "            return\n",
    "        if self.batchNum == 1 or smooth < self.bestLoss:\n",
    "            self.bestLoss = smooth\n",
    "\n",
    "        lr *= self.lrMult\n",
    "        K.set_value(self.model.optimizer.lr, lr)\n",
    "\n",
    "    def find(self, trainData, startLR, endLR, epochs=None,\n",
    "        stepsPerEpoch=None, batchSize=32, sampleSize=2048,\n",
    "        classWeight=None, verbose=1):\n",
    "\n",
    "        self.reset()\n",
    "\n",
    "        useGen = self.is_data_iter(trainData)\n",
    "\n",
    "        if useGen and stepsPerEpoch is None:\n",
    "            msg = \"Using generator without supplying stepsPerEpoch\"\n",
    "            raise Exception(msg)\n",
    "\n",
    "        elif not useGen:\n",
    "            numSamples = len(trainData[0])\n",
    "            stepsPerEpoch = np.ceil(numSamples / float(batchSize))\n",
    "\n",
    "        if epochs is None:\n",
    "            epochs = int(np.ceil(sampleSize / float(stepsPerEpoch)))\n",
    "\n",
    "        numBatchUpdates = epochs * stepsPerEpoch\n",
    "\n",
    "        self.lrMult = (endLR / startLR) ** (1.0 / numBatchUpdates)\n",
    "\n",
    "        self.weightsFile = tempfile.mkstemp()[1]\n",
    "        self.model.save_weights(self.weightsFile)\n",
    "\n",
    "        origLR = K.get_value(self.model.optimizer.lr)\n",
    "        K.set_value(self.model.optimizer.lr, startLR)\n",
    "\n",
    "        callback = LambdaCallback(on_batch_end=lambda batch, logs:\n",
    "            self.on_batch_end(batch, logs))\n",
    "\n",
    "        if useGen:\n",
    "            self.model.fit(\n",
    "                trainData,\n",
    "                steps_per_epoch=stepsPerEpoch,\n",
    "                epochs=epochs,\n",
    "                class_weight=classWeight,\n",
    "                verbose=verbose,\n",
    "                callbacks=[callback])\n",
    "\n",
    "        else:\n",
    "            self.model.fit(\n",
    "                trainData[0], trainData[1],\n",
    "                batch_size=batchSize,\n",
    "                epochs=epochs,\n",
    "                class_weight=classWeight,\n",
    "                callbacks=[callback],\n",
    "                verbose=verbose)\n",
    "\n",
    "        self.model.load_weights(self.weightsFile)\n",
    "        K.set_value(self.model.optimizer.lr, origLR)\n",
    "\n",
    "    def plot_loss(self, skipBegin=10, skipEnd=1, title=\"\"):\n",
    "        lrs = self.lrs[skipBegin:-skipEnd]\n",
    "        losses = self.losses[skipBegin:-skipEnd]\n",
    "        plt.plot(lrs, losses)\n",
    "        plt.xscale(\"log\")\n",
    "        plt.xlabel(\"Learning Rate\")\n",
    "        plt.ylabel(\"Loss\")\n",
    "        if title != \"\":\n",
    "            plt.title(title)\n"
   ]
  },
  {
   "cell_type": "code",
   "execution_count": 19,
   "metadata": {},
   "outputs": [
    {
     "name": "stdout",
     "output_type": "stream",
     "text": [
      "WARNING:tensorflow:sample_weight modes were coerced from\n",
      "  ...\n",
      "    to  \n",
      "  ['...']\n",
      "Train for 52.0 steps\n",
      "Epoch 1/20\n",
      "52/52 [==============================] - 135s 3s/step - loss: 1.3640 - accuracy: 0.4784\n",
      "Epoch 2/20\n",
      "52/52 [==============================] - 128s 2s/step - loss: 1.4216 - accuracy: 0.4808\n",
      "Epoch 3/20\n",
      "52/52 [==============================] - 127s 2s/step - loss: 1.4199 - accuracy: 0.4715\n",
      "Epoch 4/20\n",
      "52/52 [==============================] - 128s 2s/step - loss: 1.4068 - accuracy: 0.4709\n",
      "Epoch 5/20\n",
      "52/52 [==============================] - 128s 2s/step - loss: 1.4031 - accuracy: 0.4700\n",
      "Epoch 6/20\n",
      "52/52 [==============================] - 128s 2s/step - loss: 1.3269 - accuracy: 0.4946\n",
      "Epoch 7/20\n",
      "52/52 [==============================] - 127s 2s/step - loss: 1.3278 - accuracy: 0.4775\n",
      "Epoch 8/20\n",
      "52/52 [==============================] - 128s 2s/step - loss: 1.2988 - accuracy: 0.4940\n",
      "Epoch 9/20\n",
      "52/52 [==============================] - 127s 2s/step - loss: 1.1382 - accuracy: 0.5391\n",
      "Epoch 10/20\n",
      "52/52 [==============================] - 128s 2s/step - loss: 0.9835 - accuracy: 0.6094\n",
      "Epoch 11/20\n",
      "52/52 [==============================] - 126s 2s/step - loss: 0.7935 - accuracy: 0.6923\n",
      "Epoch 12/20\n",
      "52/52 [==============================] - 126s 2s/step - loss: 0.6870 - accuracy: 0.7305\n",
      "Epoch 13/20\n",
      "52/52 [==============================] - 126s 2s/step - loss: 0.6135 - accuracy: 0.7644\n",
      "Epoch 14/20\n",
      "52/52 [==============================] - 126s 2s/step - loss: 0.5453 - accuracy: 0.7876\n",
      "Epoch 15/20\n",
      "52/52 [==============================] - 126s 2s/step - loss: 0.4510 - accuracy: 0.8125\n",
      "Epoch 16/20\n",
      "52/52 [==============================] - 129s 2s/step - loss: 0.4291 - accuracy: 0.8218\n",
      "Epoch 17/20\n",
      "52/52 [==============================] - 131s 3s/step - loss: 0.6364 - accuracy: 0.7629\n",
      "Epoch 18/20\n",
      "52/52 [==============================] - 132s 3s/step - loss: 1.1394 - accuracy: 0.6860\n",
      "Epoch 19/20\n",
      "22/52 [===========>..................] - ETA: 1:14 - loss: 3.1516 - accuracy: 0.6413"
     ]
    }
   ],
   "source": [
    "lrf = LearningRateFinder(model)\n",
    "lrf.find(\n",
    "    datagen.flow(x_train, y_train, batch_size=BATCH_SIZE),\n",
    "    1e-10, 1e+1,\n",
    "    stepsPerEpoch=np.ceil((x_train.shape[0] / float(BATCH_SIZE))),\n",
    "    epochs=20,\n",
    "    batchSize=BATCH_SIZE,\n",
    "    classWeight=classWeight,\n",
    "    verbose=1)"
   ]
  },
  {
   "cell_type": "code",
   "execution_count": 20,
   "metadata": {},
   "outputs": [
    {
     "data": {
      "image/png": "[encoded data removed]",
      "text/plain": [
       "<Figure size 720x504 with 1 Axes>"
      ]
     },
     "metadata": {},
     "output_type": "display_data"
    }
   ],
   "source": [
    "plt.style.use(\"ggplot\") \n",
    "plt.figure(figsize=(10,7))\n",
    "lrf.plot_loss()\n"
   ]
  },
  {
   "cell_type": "code",
   "execution_count": null,
   "metadata": {},
   "outputs": [],
   "source": [
    "#по графику видно, что нам подойдет скорость 10^-2 лучше всего"
   ]
  }
 ],
 "metadata": {
  "kernelspec": {
   "display_name": "Python 3",
   "language": "python",
   "name": "python3"
  },
  "language_info": {
   "codemirror_mode": {
    "name": "ipython",
    "version": 3
   },
   "file_extension": ".py",
   "mimetype": "text/x-python",
   "name": "python",
   "nbconvert_exporter": "python",
   "pygments_lexer": "ipython3",
   "version": "3.7.4"
  }
 },
 "nbformat": 4,
 "nbformat_minor": 2
}
