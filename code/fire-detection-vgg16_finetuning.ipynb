{
 "cells": [
  {
   "cell_type": "markdown",
   "metadata": {},
   "source": [
    "# Обнаружение пожаров по фото и видео"
   ]
  },
  {
   "cell_type": "code",
   "execution_count": 1,
   "metadata": {},
   "outputs": [],
   "source": [
    "import matplotlib\n",
    "from tensorflow.keras.preprocessing.image import ImageDataGenerator\n",
    "from tensorflow.keras.optimizers import SGD\n",
    "from tensorflow.keras.utils import to_categorical\n",
    "from sklearn.model_selection import train_test_split\n",
    "from sklearn.metrics import classification_report\n",
    "import matplotlib.pyplot as plt\n",
    "%matplotlib inline \n",
    "import numpy as np\n",
    "import argparse\n",
    "import sys"
   ]
  },
  {
   "cell_type": "code",
   "execution_count": 2,
   "metadata": {},
   "outputs": [],
   "source": [
    "import tensorflow as tf"
   ]
  },
  {
   "cell_type": "code",
   "execution_count": 3,
   "metadata": {},
   "outputs": [],
   "source": [
    "import cv2"
   ]
  },
  {
   "cell_type": "code",
   "execution_count": 4,
   "metadata": {},
   "outputs": [],
   "source": [
    "from imutils import paths"
   ]
  },
  {
   "cell_type": "code",
   "execution_count": 5,
   "metadata": {},
   "outputs": [],
   "source": [
    "import os"
   ]
  },
  {
   "cell_type": "code",
   "execution_count": 6,
   "metadata": {},
   "outputs": [],
   "source": [
    "from tensorflow.keras.applications import VGG16"
   ]
  },
  {
   "cell_type": "markdown",
   "metadata": {},
   "source": [
    "## Подготовка данных"
   ]
  },
  {
   "cell_type": "code",
   "execution_count": 7,
   "metadata": {},
   "outputs": [],
   "source": [
    "FIRE_PATH = \"C:/Users/Marinka/Desktop/pract/fire-detection/fire\"\n",
    "NO_FIRE_PATH = \"C:/Users/Marinka/Desktop/pract/fire-detection/nofire\""
   ]
  },
  {
   "cell_type": "code",
   "execution_count": 8,
   "metadata": {},
   "outputs": [],
   "source": [
    "# инициализировать метки классов в наборе данных\n",
    "CLASSES_NAMES = [\"NoFire\", \"Fire\"]"
   ]
  },
  {
   "cell_type": "code",
   "execution_count": 9,
   "metadata": {},
   "outputs": [],
   "source": [
    "# функция, которая принимает путь к набору данных\n",
    "def load_dataset(datasetPath):\n",
    "    # путь к изображениям\n",
    "    imagePaths = list(paths.list_images(datasetPath))\n",
    "    data = []\n",
    "\n",
    "    for imagePath in imagePaths:\n",
    "        # загрузка изображений и изменение их размеров до 128x128 пикселей, \n",
    "        # игнорируя соотношение сторон\n",
    "        image = cv2.imread(imagePath)\n",
    "        image = cv2.resize(image, (128, 128))\n",
    "\n",
    "        # добавить изображение в список data\n",
    "        data.append(image)\n",
    "\n",
    "    # array возвращает список data  в формате массива NumPy\n",
    "    return np.array(data, dtype=\"float32\")"
   ]
  },
  {
   "cell_type": "code",
   "execution_count": 10,
   "metadata": {},
   "outputs": [],
   "source": [
    "import numpy as np\n",
    "# загрузка изображений с огнем и без огня\n",
    "fireData = load_dataset(FIRE_PATH)\n",
    "noFireData = load_dataset(NO_FIRE_PATH)\n",
    "\n",
    "# конструирование меток для классов, 1 - пожар, 0 -нет пожара\n",
    "fireLabels = np.ones((fireData.shape[0],))\n",
    "noFireLabels = np.zeros((noFireData.shape[0],))\n",
    "\n",
    "# функция vstack() соединяет массивы по вертикали\n",
    "data = np.vstack([fireData, noFireData])\n",
    "# функция hstack() соединяет массивы по горизонтали\n",
    "labels = np.hstack([fireLabels, noFireLabels])\n",
    "\n",
    "# масштабировать интенсивность пикселей до диапазона [0, 1]\n",
    "data /= 255"
   ]
  },
  {
   "cell_type": "code",
   "execution_count": 11,
   "metadata": {},
   "outputs": [],
   "source": [
    "# преобразование правильных ответов в формат one hot encoding\n",
    "labels = to_categorical(labels, num_classes=2)"
   ]
  },
  {
   "cell_type": "code",
   "execution_count": 12,
   "metadata": {},
   "outputs": [],
   "source": [
    "# создание баланса\n",
    "classTotal= labels.sum(axis=0) # cуммируются значения по оси 0 (по столбцам)\n",
    "classWeight = classTotal.max() / classTotal"
   ]
  },
  {
   "cell_type": "code",
   "execution_count": 13,
   "metadata": {},
   "outputs": [],
   "source": [
    "# размер выборки валидации\n",
    "VAL_SIZE = 0.2"
   ]
  },
  {
   "cell_type": "code",
   "execution_count": 14,
   "metadata": {},
   "outputs": [],
   "source": [
    "# разделение на выборку для обучения и выборку для валидации\n",
    "#x_train -изображения, y_train -метки для обозначения класса\n",
    "(x_train, x_val, y_train, y_val) = train_test_split(data, labels,\n",
    "    test_size=VAL_SIZE, \n",
    "    random_state=42\n",
    "  )"
   ]
  },
  {
   "cell_type": "markdown",
   "metadata": {},
   "source": [
    "## Создание нейронной сети на основе VGG16"
   ]
  },
  {
   "cell_type": "code",
   "execution_count": 15,
   "metadata": {},
   "outputs": [],
   "source": [
    "from tensorflow.keras.models import Sequential\n",
    "from tensorflow.keras.layers import BatchNormalization\n",
    "from tensorflow.keras.layers import Conv2D\n",
    "from tensorflow.keras.layers import MaxPooling2D\n",
    "from tensorflow.keras.layers import Activation\n",
    "from tensorflow.keras.layers import Flatten\n",
    "from tensorflow.keras.layers import Dropout\n",
    "from tensorflow.keras.layers import Dense\n",
    "from tensorflow.keras.models import Model\n",
    "# from keras.applications.inception_v3 import InceptionV3"
   ]
  },
  {
   "cell_type": "code",
   "execution_count": 16,
   "metadata": {},
   "outputs": [],
   "source": [
    "baseModel = VGG16(weights=\"imagenet\", include_top=False, # не будет загружена та часть сети, которая отвечает за классификацию\n",
    "    input_shape=(128, 128, 3))"
   ]
  },
  {
   "cell_type": "code",
   "execution_count": 18,
   "metadata": {},
   "outputs": [],
   "source": [
    "baseModel.trainable = False"
   ]
  },
  {
   "cell_type": "code",
   "execution_count": 19,
   "metadata": {},
   "outputs": [
    {
     "name": "stdout",
     "output_type": "stream",
     "text": [
      "Model: \"vgg16\"\n",
      "_________________________________________________________________\n",
      "Layer (type)                 Output Shape              Param #   \n",
      "=================================================================\n",
      "input_1 (InputLayer)         [(None, 128, 128, 3)]     0         \n",
      "_________________________________________________________________\n",
      "block1_conv1 (Conv2D)        (None, 128, 128, 64)      1792      \n",
      "_________________________________________________________________\n",
      "block1_conv2 (Conv2D)        (None, 128, 128, 64)      36928     \n",
      "_________________________________________________________________\n",
      "block1_pool (MaxPooling2D)   (None, 64, 64, 64)        0         \n",
      "_________________________________________________________________\n",
      "block2_conv1 (Conv2D)        (None, 64, 64, 128)       73856     \n",
      "_________________________________________________________________\n",
      "block2_conv2 (Conv2D)        (None, 64, 64, 128)       147584    \n",
      "_________________________________________________________________\n",
      "block2_pool (MaxPooling2D)   (None, 32, 32, 128)       0         \n",
      "_________________________________________________________________\n",
      "block3_conv1 (Conv2D)        (None, 32, 32, 256)       295168    \n",
      "_________________________________________________________________\n",
      "block3_conv2 (Conv2D)        (None, 32, 32, 256)       590080    \n",
      "_________________________________________________________________\n",
      "block3_conv3 (Conv2D)        (None, 32, 32, 256)       590080    \n",
      "_________________________________________________________________\n",
      "block3_pool (MaxPooling2D)   (None, 16, 16, 256)       0         \n",
      "_________________________________________________________________\n",
      "block4_conv1 (Conv2D)        (None, 16, 16, 512)       1180160   \n",
      "_________________________________________________________________\n",
      "block4_conv2 (Conv2D)        (None, 16, 16, 512)       2359808   \n",
      "_________________________________________________________________\n",
      "block4_conv3 (Conv2D)        (None, 16, 16, 512)       2359808   \n",
      "_________________________________________________________________\n",
      "block4_pool (MaxPooling2D)   (None, 8, 8, 512)         0         \n",
      "_________________________________________________________________\n",
      "block5_conv1 (Conv2D)        (None, 8, 8, 512)         2359808   \n",
      "_________________________________________________________________\n",
      "block5_conv2 (Conv2D)        (None, 8, 8, 512)         2359808   \n",
      "_________________________________________________________________\n",
      "block5_conv3 (Conv2D)        (None, 8, 8, 512)         2359808   \n",
      "_________________________________________________________________\n",
      "block5_pool (MaxPooling2D)   (None, 4, 4, 512)         0         \n",
      "=================================================================\n",
      "Total params: 14,714,688\n",
      "Trainable params: 0\n",
      "Non-trainable params: 14,714,688\n",
      "_________________________________________________________________\n",
      "None\n"
     ]
    }
   ],
   "source": [
    "print(baseModel.summary())"
   ]
  },
  {
   "cell_type": "code",
   "execution_count": 20,
   "metadata": {},
   "outputs": [],
   "source": [
    "model = Sequential()\n",
    "# Добавляем в модель сеть VGG16 вместо слоя\n",
    "model.add(baseModel)\n",
    "# СLASSIFIER\n",
    "# Слой преобразования данных из 2D представления в плоское\n",
    "model.add(Flatten())\n",
    "# Первый полносвязный слой для классификации\n",
    "model.add(Dense(512))\n",
    "model.add(Activation(\"relu\"))\n",
    "# Пакетная нормализация\n",
    "model.add(BatchNormalization())\n",
    "# Слой регуляризации Dropout\n",
    "model.add(Dropout(0.5))\n",
    "# Второй полносвязный слой\n",
    "model.add(Dense(512))\n",
    "model.add(Activation(\"relu\"))\n",
    "# Пакетная нормализация\n",
    "model.add(BatchNormalization())\n",
    "# Слой регуляризации Dropout\n",
    "model.add(Dropout(0.5))\n",
    "# Выходной слой\n",
    "model.add(Dense(2))\n",
    "model.add(Activation(\"softmax\"))"
   ]
  },
  {
   "cell_type": "code",
   "execution_count": 21,
   "metadata": {},
   "outputs": [
    {
     "name": "stdout",
     "output_type": "stream",
     "text": [
      "Model: \"sequential\"\n",
      "_________________________________________________________________\n",
      "Layer (type)                 Output Shape              Param #   \n",
      "=================================================================\n",
      "vgg16 (Model)                (None, 4, 4, 512)         14714688  \n",
      "_________________________________________________________________\n",
      "flatten (Flatten)            (None, 8192)              0         \n",
      "_________________________________________________________________\n",
      "dense (Dense)                (None, 512)               4194816   \n",
      "_________________________________________________________________\n",
      "activation (Activation)      (None, 512)               0         \n",
      "_________________________________________________________________\n",
      "batch_normalization (BatchNo (None, 512)               2048      \n",
      "_________________________________________________________________\n",
      "dropout (Dropout)            (None, 512)               0         \n",
      "_________________________________________________________________\n",
      "dense_1 (Dense)              (None, 512)               262656    \n",
      "_________________________________________________________________\n",
      "activation_1 (Activation)    (None, 512)               0         \n",
      "_________________________________________________________________\n",
      "batch_normalization_1 (Batch (None, 512)               2048      \n",
      "_________________________________________________________________\n",
      "dropout_1 (Dropout)          (None, 512)               0         \n",
      "_________________________________________________________________\n",
      "dense_2 (Dense)              (None, 2)                 1026      \n",
      "_________________________________________________________________\n",
      "activation_2 (Activation)    (None, 2)                 0         \n",
      "=================================================================\n",
      "Total params: 19,177,282\n",
      "Trainable params: 4,460,546\n",
      "Non-trainable params: 14,716,736\n",
      "_________________________________________________________________\n",
      "None\n"
     ]
    }
   ],
   "source": [
    "print(model.summary())"
   ]
  },
  {
   "cell_type": "code",
   "execution_count": 25,
   "metadata": {},
   "outputs": [],
   "source": [
    "# дополнительные обучающие данные\n",
    "datagen = ImageDataGenerator(\n",
    "    rotation_range=25,\n",
    "    zoom_range=0.15,\n",
    "    width_shift_range=0.2,\n",
    "    height_shift_range=0.2,\n",
    "    horizontal_flip=True,\n",
    "    fill_mode=\"reflect\")"
   ]
  },
  {
   "cell_type": "markdown",
   "metadata": {},
   "source": [
    "## LearningRateFinder"
   ]
  },
  {
   "cell_type": "code",
   "execution_count": 27,
   "metadata": {},
   "outputs": [],
   "source": [
    "# model.compile(loss=\"binary_crossentropy\", \n",
    "#               optimizer=SGD(lr=SPEED, momentum=0.9, decay= SPEED / EPOCHS),\n",
    "#               metrics=[\"accuracy\"])"
   ]
  },
  {
   "cell_type": "code",
   "execution_count": 28,
   "metadata": {},
   "outputs": [],
   "source": [
    "# from tensorflow.keras.callbacks import LambdaCallback\n",
    "# from tensorflow.keras import backend as K\n",
    "# import matplotlib.pyplot as plt\n",
    "# import numpy as np\n",
    "# import tempfile\n",
    "\n",
    "# class LearningRateFinder:\n",
    "#     def __init__(self, model, stopFactor=4, beta=0.98):\n",
    "#         self.model = model\n",
    "#         self.stopFactor = stopFactor\n",
    "#         self.beta = beta\n",
    "#         self.lrs = []\n",
    "#         self.losses = []\n",
    "#         self.lrMult = 1\n",
    "#         self.avgLoss = 0\n",
    "#         self.bestLoss = 1e9\n",
    "#         self.batchNum = 0\n",
    "#         self.weightsFile = None\n",
    "\n",
    "#     def reset(self):\n",
    "#         self.lrs = []\n",
    "#         self.losses = []\n",
    "#         self.lrMult = 1\n",
    "#         self.avgLoss = 0\n",
    "#         self.bestLoss = 1e9\n",
    "#         self.batchNum = 0\n",
    "#         self.weightsFile = None\n",
    "\n",
    "#     def is_data_iter(self, data):\n",
    "#         iterClasses = [\"NumpyArrayIterator\", \"DirectoryIterator\",\n",
    "#              \"DataFrameIterator\", \"Iterator\", \"Sequence\"]\n",
    "\n",
    "#         return data.__class__.__name__ in iterClasses\n",
    "\n",
    "#     def on_batch_end(self, batch, logs):\n",
    "#         lr = K.get_value(self.model.optimizer.lr)\n",
    "#         self.lrs.append(lr)\n",
    "#         l = logs[\"loss\"]\n",
    "#         self.batchNum += 1\n",
    "#         self.avgLoss = (self.beta * self.avgLoss) + ((1 - self.beta) * l)\n",
    "#         smooth = self.avgLoss / (1 - (self.beta ** self.batchNum))\n",
    "#         self.losses.append(smooth)\n",
    "#         stopLoss = self.stopFactor * self.bestLoss\n",
    "#         if self.batchNum > 1 and smooth > stopLoss:\n",
    "#             self.model.stop_training = True\n",
    "#             return\n",
    "#         if self.batchNum == 1 or smooth < self.bestLoss:\n",
    "#             self.bestLoss = smooth\n",
    "\n",
    "#         lr *= self.lrMult\n",
    "#         K.set_value(self.model.optimizer.lr, lr)\n",
    "\n",
    "#     def find(self, trainData, startLR, endLR, epochs=None,\n",
    "#         stepsPerEpoch=None, batchSize=32, sampleSize=2048,\n",
    "#         classWeight=None, verbose=1):\n",
    "\n",
    "#         self.reset()\n",
    "\n",
    "#         useGen = self.is_data_iter(trainData)\n",
    "\n",
    "#         if useGen and stepsPerEpoch is None:\n",
    "#             msg = \"Using generator without supplying stepsPerEpoch\"\n",
    "#             raise Exception(msg)\n",
    "\n",
    "#         elif not useGen:\n",
    "#             numSamples = len(trainData[0])\n",
    "#             stepsPerEpoch = np.ceil(numSamples / float(batchSize))\n",
    "\n",
    "#         if epochs is None:\n",
    "#             epochs = int(np.ceil(sampleSize / float(stepsPerEpoch)))\n",
    "\n",
    "#         numBatchUpdates = epochs * stepsPerEpoch\n",
    "\n",
    "#         self.lrMult = (endLR / startLR) ** (1.0 / numBatchUpdates)\n",
    "\n",
    "#         self.weightsFile = tempfile.mkstemp()[1]\n",
    "#         self.model.save_weights(self.weightsFile)\n",
    "\n",
    "#         origLR = K.get_value(self.model.optimizer.lr)\n",
    "#         K.set_value(self.model.optimizer.lr, startLR)\n",
    "\n",
    "#         callback = LambdaCallback(on_batch_end=lambda batch, logs:\n",
    "#             self.on_batch_end(batch, logs))\n",
    "\n",
    "#         if useGen:\n",
    "#             self.model.fit(\n",
    "#                 trainData,\n",
    "#                 steps_per_epoch=stepsPerEpoch,\n",
    "#                 epochs=epochs,\n",
    "#                 class_weight=classWeight,\n",
    "#                 verbose=verbose,\n",
    "#                 callbacks=[callback])\n",
    "\n",
    "#         else:\n",
    "#             self.model.fit(\n",
    "#                 trainData[0], trainData[1],\n",
    "#                 batch_size=batchSize,\n",
    "#                 epochs=epochs,\n",
    "#                 class_weight=classWeight,\n",
    "#                 callbacks=[callback],\n",
    "#                 verbose=verbose)\n",
    "\n",
    "#         self.model.load_weights(self.weightsFile)\n",
    "#         K.set_value(self.model.optimizer.lr, origLR)\n",
    "\n",
    "#     def plot_loss(self, skipBegin=10, skipEnd=1, title=\"\"):\n",
    "#         lrs = self.lrs[skipBegin:-skipEnd]\n",
    "#         losses = self.losses[skipBegin:-skipEnd]\n",
    "#         plt.plot(lrs, losses)\n",
    "#         plt.xscale(\"log\")\n",
    "#         plt.xlabel(\"Learning Rate\")\n",
    "#         plt.ylabel(\"Loss\")\n",
    "#         if title != \"\":\n",
    "#             plt.title(title)\n"
   ]
  },
  {
   "cell_type": "code",
   "execution_count": 29,
   "metadata": {},
   "outputs": [],
   "source": [
    "# EPOCHS = 50\n",
    "# #Размер минивыборки,\n",
    "# BATCH_SIZE = 64  # изменяем веса нейронных сетей после того, как обрабатываем каждые __ объекта, попробовать 128\n",
    "# # начальная скорость обучения\n",
    "# SPEED = 0.01 #"
   ]
  },
  {
   "cell_type": "code",
   "execution_count": 30,
   "metadata": {},
   "outputs": [
    {
     "name": "stdout",
     "output_type": "stream",
     "text": [
      "WARNING:tensorflow:sample_weight modes were coerced from\n",
      "  ...\n",
      "    to  \n",
      "  ['...']\n",
      "Train for 52.0 steps\n",
      "Epoch 1/20\n",
      "52/52 [==============================] - 439s 8s/step - loss: 1.4116 - accuracy: 0.4889\n",
      "Epoch 2/20\n",
      "52/52 [==============================] - 438s 8s/step - loss: 1.4244 - accuracy: 0.4703\n",
      "Epoch 3/20\n",
      "52/52 [==============================] - 434s 8s/step - loss: 1.3466 - accuracy: 0.4988\n",
      "Epoch 4/20\n",
      "52/52 [==============================] - 436s 8s/step - loss: 1.4471 - accuracy: 0.4712\n",
      "Epoch 5/20\n",
      "52/52 [==============================] - 447s 9s/step - loss: 1.4174 - accuracy: 0.4850\n",
      "Epoch 6/20\n",
      "52/52 [==============================] - 507s 10s/step - loss: 1.4207 - accuracy: 0.4910\n",
      "Epoch 7/20\n",
      "52/52 [==============================] - 482s 9s/step - loss: 1.3715 - accuracy: 0.4823\n",
      "Epoch 8/20\n",
      "52/52 [==============================] - 531s 10s/step - loss: 1.3544 - accuracy: 0.4946\n",
      "Epoch 9/20\n",
      "52/52 [==============================] - 428s 8s/step - loss: 1.3233 - accuracy: 0.5078\n",
      "Epoch 10/20\n",
      "52/52 [==============================] - 436s 8s/step - loss: 1.1903 - accuracy: 0.5496\n",
      "Epoch 11/20\n",
      "52/52 [==============================] - 442s 9s/step - loss: 0.8977 - accuracy: 0.6538\n",
      "Epoch 12/20\n",
      "52/52 [==============================] - 437s 8s/step - loss: 0.6385 - accuracy: 0.7602\n",
      "Epoch 13/20\n",
      "52/52 [==============================] - 422s 8s/step - loss: 0.4314 - accuracy: 0.8383\n",
      "Epoch 14/20\n",
      "52/52 [==============================] - 422s 8s/step - loss: 0.2908 - accuracy: 0.8957\n",
      "Epoch 15/20\n",
      "52/52 [==============================] - 424s 8s/step - loss: 0.2150 - accuracy: 0.9279\n",
      "Epoch 16/20\n",
      "52/52 [==============================] - 424s 8s/step - loss: 0.2666 - accuracy: 0.9201\n",
      "Epoch 17/20\n",
      "52/52 [==============================] - 424s 8s/step - loss: 0.7306 - accuracy: 0.8951\n",
      "Epoch 18/20\n",
      "30/52 [================>.............] - ETA: 2:59 - loss: 1.3876 - accuracy: 0.8917"
     ]
    }
   ],
   "source": [
    "# lrf = LearningRateFinder(model)\n",
    "# lrf.find(\n",
    "#     datagen.flow(x_train, y_train, batch_size=BATCH_SIZE),\n",
    "#     1e-10, 1e+1,\n",
    "#     stepsPerEpoch=np.ceil((x_train.shape[0] / float(BATCH_SIZE))),\n",
    "#     epochs=20,\n",
    "#     batchSize=BATCH_SIZE,\n",
    "#     classWeight=classWeight,\n",
    "#     verbose=1)"
   ]
  },
  {
   "cell_type": "code",
   "execution_count": 31,
   "metadata": {},
   "outputs": [
    {
     "data": {
      "image/png": "[encoded data removed]",
      "text/plain": [
       "<Figure size 720x504 with 1 Axes>"
      ]
     },
     "metadata": {},
     "output_type": "display_data"
    }
   ],
   "source": [
    "# plt.style.use(\"ggplot\") \n",
    "# plt.figure(figsize=(10,7))\n",
    "# lrf.plot_loss()\n"
   ]
  },
  {
   "cell_type": "markdown",
   "metadata": {},
   "source": [
    "## Обучение"
   ]
  },
  {
   "cell_type": "code",
   "execution_count": 22,
   "metadata": {},
   "outputs": [],
   "source": [
    "EPOCHS = 50\n",
    "#Размер минивыборки,\n",
    "BATCH_SIZE = 64  # изменяем веса нейронных сетей после того, как обрабатываем каждые __ объекта, попробовать 128\n",
    "# начальная скорость обучения\n",
    "SPEED = 0.01 #"
   ]
  },
  {
   "cell_type": "code",
   "execution_count": 23,
   "metadata": {},
   "outputs": [],
   "source": [
    "model.compile(loss=\"binary_crossentropy\", \n",
    "              optimizer=SGD(lr=SPEED, momentum=0.9, decay= SPEED / EPOCHS),\n",
    "              metrics=[\"accuracy\"])"
   ]
  },
  {
   "cell_type": "code",
   "execution_count": 26,
   "metadata": {},
   "outputs": [
    {
     "name": "stdout",
     "output_type": "stream",
     "text": [
      "WARNING:tensorflow:From <ipython-input-26-81ccd5d0000d>:8: Model.fit_generator (from tensorflow.python.keras.engine.training) is deprecated and will be removed in a future version.\n",
      "Instructions for updating:\n",
      "Please use Model.fit, which supports generators.\n",
      "WARNING:tensorflow:sample_weight modes were coerced from\n",
      "  ...\n",
      "    to  \n",
      "  ['...']\n",
      "Train for 52 steps, validate on 832 samples\n",
      "Epoch 1/50\n",
      "52/52 [==============================] - 524s 10s/step - loss: 0.3715 - accuracy: 0.8741 - val_loss: 3.2286 - val_accuracy: 0.3930\n",
      "Epoch 2/50\n",
      "52/52 [==============================] - 521s 10s/step - loss: 0.1816 - accuracy: 0.9369 - val_loss: 0.9071 - val_accuracy: 0.6550\n",
      "Epoch 3/50\n",
      "52/52 [==============================] - 520s 10s/step - loss: 0.1548 - accuracy: 0.9432 - val_loss: 0.1241 - val_accuracy: 0.9567\n",
      "Epoch 4/50\n",
      "52/52 [==============================] - 520s 10s/step - loss: 0.1626 - accuracy: 0.9384 - val_loss: 0.1507 - val_accuracy: 0.9495\n",
      "Epoch 5/50\n",
      "52/52 [==============================] - 521s 10s/step - loss: 0.1504 - accuracy: 0.9513 - val_loss: 0.1171 - val_accuracy: 0.9567\n",
      "Epoch 6/50\n",
      "52/52 [==============================] - 520s 10s/step - loss: 0.1361 - accuracy: 0.9510 - val_loss: 0.1163 - val_accuracy: 0.9591\n",
      "Epoch 7/50\n",
      "52/52 [==============================] - 520s 10s/step - loss: 0.1380 - accuracy: 0.9504 - val_loss: 0.1304 - val_accuracy: 0.9627\n",
      "Epoch 8/50\n",
      "52/52 [==============================] - 524s 10s/step - loss: 0.1290 - accuracy: 0.9519 - val_loss: 0.1275 - val_accuracy: 0.9567\n",
      "Epoch 9/50\n",
      "52/52 [==============================] - 526s 10s/step - loss: 0.1195 - accuracy: 0.9543 - val_loss: 0.1273 - val_accuracy: 0.9543\n",
      "Epoch 10/50\n",
      "52/52 [==============================] - 525s 10s/step - loss: 0.1320 - accuracy: 0.9513 - val_loss: 0.1457 - val_accuracy: 0.9615\n",
      "Epoch 11/50\n",
      "52/52 [==============================] - 574s 11s/step - loss: 0.1240 - accuracy: 0.9543 - val_loss: 0.1449 - val_accuracy: 0.9555\n",
      "Epoch 12/50\n",
      "52/52 [==============================] - 577s 11s/step - loss: 0.1184 - accuracy: 0.9579 - val_loss: 0.1637 - val_accuracy: 0.9555\n",
      "Epoch 13/50\n",
      "52/52 [==============================] - 575s 11s/step - loss: 0.1137 - accuracy: 0.9609 - val_loss: 0.1189 - val_accuracy: 0.9603\n",
      "Epoch 14/50\n",
      "52/52 [==============================] - 549s 11s/step - loss: 0.1045 - accuracy: 0.9609 - val_loss: 0.1283 - val_accuracy: 0.9579\n",
      "Epoch 15/50\n",
      "52/52 [==============================] - 521s 10s/step - loss: 0.1081 - accuracy: 0.9606 - val_loss: 0.1439 - val_accuracy: 0.9579\n",
      "Epoch 16/50\n",
      "52/52 [==============================] - 522s 10s/step - loss: 0.1046 - accuracy: 0.9642 - val_loss: 0.1375 - val_accuracy: 0.9603\n",
      "Epoch 17/50\n",
      "52/52 [==============================] - 589s 11s/step - loss: 0.0973 - accuracy: 0.9615 - val_loss: 0.1253 - val_accuracy: 0.9663\n",
      "Epoch 18/50\n",
      "52/52 [==============================] - 561s 11s/step - loss: 0.0971 - accuracy: 0.9651 - val_loss: 0.1175 - val_accuracy: 0.9651\n",
      "Epoch 19/50\n",
      "52/52 [==============================] - 519s 10s/step - loss: 0.0987 - accuracy: 0.9654 - val_loss: 0.1193 - val_accuracy: 0.9675\n",
      "Epoch 20/50\n",
      "52/52 [==============================] - 519s 10s/step - loss: 0.0916 - accuracy: 0.9657 - val_loss: 0.1229 - val_accuracy: 0.9639\n",
      "Epoch 21/50\n",
      "52/52 [==============================] - 519s 10s/step - loss: 0.0986 - accuracy: 0.9600 - val_loss: 0.1214 - val_accuracy: 0.9663\n",
      "Epoch 22/50\n",
      "52/52 [==============================] - 519s 10s/step - loss: 0.0958 - accuracy: 0.9684 - val_loss: 0.1279 - val_accuracy: 0.9663\n",
      "Epoch 23/50\n",
      "52/52 [==============================] - 519s 10s/step - loss: 0.1016 - accuracy: 0.9627 - val_loss: 0.1100 - val_accuracy: 0.9651\n",
      "Epoch 24/50\n",
      "52/52 [==============================] - 520s 10s/step - loss: 0.0990 - accuracy: 0.9627 - val_loss: 0.1123 - val_accuracy: 0.9639\n",
      "Epoch 25/50\n",
      "52/52 [==============================] - 519s 10s/step - loss: 0.0880 - accuracy: 0.9639 - val_loss: 0.1224 - val_accuracy: 0.9651\n",
      "Epoch 26/50\n",
      "52/52 [==============================] - 519s 10s/step - loss: 0.0833 - accuracy: 0.9684 - val_loss: 0.1117 - val_accuracy: 0.9688\n",
      "Epoch 27/50\n",
      "52/52 [==============================] - 519s 10s/step - loss: 0.0831 - accuracy: 0.9718 - val_loss: 0.1185 - val_accuracy: 0.9663\n",
      "Epoch 28/50\n",
      "52/52 [==============================] - 519s 10s/step - loss: 0.0888 - accuracy: 0.9709 - val_loss: 0.1205 - val_accuracy: 0.9663\n",
      "Epoch 29/50\n",
      "52/52 [==============================] - 519s 10s/step - loss: 0.0826 - accuracy: 0.9678 - val_loss: 0.1374 - val_accuracy: 0.9603\n",
      "Epoch 30/50\n",
      "52/52 [==============================] - 519s 10s/step - loss: 0.0847 - accuracy: 0.9721 - val_loss: 0.1056 - val_accuracy: 0.9724\n",
      "Epoch 31/50\n",
      "52/52 [==============================] - 519s 10s/step - loss: 0.0758 - accuracy: 0.9703 - val_loss: 0.1189 - val_accuracy: 0.9675\n",
      "Epoch 32/50\n",
      "52/52 [==============================] - 519s 10s/step - loss: 0.0882 - accuracy: 0.9691 - val_loss: 0.1082 - val_accuracy: 0.9688\n",
      "Epoch 33/50\n",
      "52/52 [==============================] - 520s 10s/step - loss: 0.0979 - accuracy: 0.9651 - val_loss: 0.1118 - val_accuracy: 0.9688\n",
      "Epoch 34/50\n",
      "52/52 [==============================] - 560s 11s/step - loss: 0.0763 - accuracy: 0.9727 - val_loss: 0.1096 - val_accuracy: 0.9663\n",
      "Epoch 35/50\n",
      "52/52 [==============================] - 539s 10s/step - loss: 0.0815 - accuracy: 0.9672 - val_loss: 0.0945 - val_accuracy: 0.9736\n",
      "Epoch 36/50\n",
      "52/52 [==============================] - 531s 10s/step - loss: 0.0830 - accuracy: 0.9697 - val_loss: 0.1125 - val_accuracy: 0.9688\n",
      "Epoch 37/50\n",
      "52/52 [==============================] - 537s 10s/step - loss: 0.0777 - accuracy: 0.9706 - val_loss: 0.0985 - val_accuracy: 0.9688\n",
      "Epoch 38/50\n",
      "52/52 [==============================] - 561s 11s/step - loss: 0.0721 - accuracy: 0.9718 - val_loss: 0.1034 - val_accuracy: 0.9700\n",
      "Epoch 39/50\n",
      "52/52 [==============================] - 563s 11s/step - loss: 0.0817 - accuracy: 0.9669 - val_loss: 0.1068 - val_accuracy: 0.9663\n",
      "Epoch 40/50\n",
      "52/52 [==============================] - 551s 11s/step - loss: 0.0801 - accuracy: 0.9718 - val_loss: 0.1137 - val_accuracy: 0.9639\n",
      "Epoch 41/50\n",
      "52/52 [==============================] - 542s 10s/step - loss: 0.0712 - accuracy: 0.9715 - val_loss: 0.1158 - val_accuracy: 0.9663\n",
      "Epoch 42/50\n",
      "52/52 [==============================] - 561s 11s/step - loss: 0.0793 - accuracy: 0.9703 - val_loss: 0.1015 - val_accuracy: 0.9736\n",
      "Epoch 43/50\n",
      "52/52 [==============================] - 538s 10s/step - loss: 0.0732 - accuracy: 0.9721 - val_loss: 0.1191 - val_accuracy: 0.9651\n",
      "Epoch 44/50\n",
      "52/52 [==============================] - 540s 10s/step - loss: 0.0829 - accuracy: 0.9694 - val_loss: 0.1048 - val_accuracy: 0.9688\n",
      "Epoch 45/50\n",
      "52/52 [==============================] - 548s 11s/step - loss: 0.0759 - accuracy: 0.9697 - val_loss: 0.1069 - val_accuracy: 0.9675\n",
      "Epoch 46/50\n",
      "52/52 [==============================] - 567s 11s/step - loss: 0.0741 - accuracy: 0.9697 - val_loss: 0.1037 - val_accuracy: 0.9700\n",
      "Epoch 47/50\n",
      "52/52 [==============================] - 557s 11s/step - loss: 0.0813 - accuracy: 0.9706 - val_loss: 0.0991 - val_accuracy: 0.9663\n",
      "Epoch 48/50\n",
      "52/52 [==============================] - 536s 10s/step - loss: 0.0828 - accuracy: 0.9706 - val_loss: 0.1046 - val_accuracy: 0.9663\n",
      "Epoch 49/50\n",
      "52/52 [==============================] - 542s 10s/step - loss: 0.0716 - accuracy: 0.9718 - val_loss: 0.0989 - val_accuracy: 0.9712\n",
      "Epoch 50/50\n",
      "52/52 [==============================] - 521s 10s/step - loss: 0.0729 - accuracy: 0.9709 - val_loss: 0.1174 - val_accuracy: 0.9700\n"
     ]
    },
    {
     "data": {
      "text/plain": [
       "<tensorflow.python.keras.callbacks.History at 0x2b33c252a08>"
      ]
     },
     "execution_count": 26,
     "metadata": {},
     "output_type": "execute_result"
    }
   ],
   "source": [
    "# Обучение\n",
    "model.fit_generator(\n",
    "    datagen.flow(x_train, y_train, batch_size=BATCH_SIZE),\n",
    "    validation_data=(x_val, y_val),\n",
    "    steps_per_epoch=x_train.shape[0] // BATCH_SIZE,\n",
    "    epochs=EPOCHS,\n",
    "    class_weight=classWeight,\n",
    "    verbose=1)"
   ]
  },
  {
   "cell_type": "code",
   "execution_count": 27,
   "metadata": {},
   "outputs": [
    {
     "name": "stdout",
     "output_type": "stream",
     "text": [
      "Точность работы на валидационных данных: 97.00%\n"
     ]
    }
   ],
   "source": [
    "qual = model.evaluate(x_val, y_val, verbose=0)\n",
    "print(\"Точность работы на валидационных данных: %.2f%%\" % (qual[1]*100))"
   ]
  },
  {
   "cell_type": "code",
   "execution_count": 28,
   "metadata": {},
   "outputs": [],
   "source": [
    "#сохранить модель\n",
    "model.save(\"C:/Users/Marinka/Desktop/pract/fire-detection/FireDetection-vgg16-0.h5\")"
   ]
  },
  {
   "cell_type": "markdown",
   "metadata": {},
   "source": [
    "## FineTuning"
   ]
  },
  {
   "cell_type": "code",
   "execution_count": 29,
   "metadata": {},
   "outputs": [],
   "source": [
    "# разморозка последнего сверточного блока VGG16\n",
    "baseModel.trainable = True\n",
    "trainable = False\n",
    "for layer in baseModel.layers:\n",
    "    if layer.name == 'block5_conv1':\n",
    "        trainable = True\n",
    "    layer.trainable = trainable"
   ]
  },
  {
   "cell_type": "code",
   "execution_count": 30,
   "metadata": {},
   "outputs": [
    {
     "name": "stdout",
     "output_type": "stream",
     "text": [
      "Model: \"sequential\"\n",
      "_________________________________________________________________\n",
      "Layer (type)                 Output Shape              Param #   \n",
      "=================================================================\n",
      "vgg16 (Model)                (None, 4, 4, 512)         14714688  \n",
      "_________________________________________________________________\n",
      "flatten (Flatten)            (None, 8192)              0         \n",
      "_________________________________________________________________\n",
      "dense (Dense)                (None, 512)               4194816   \n",
      "_________________________________________________________________\n",
      "activation (Activation)      (None, 512)               0         \n",
      "_________________________________________________________________\n",
      "batch_normalization (BatchNo (None, 512)               2048      \n",
      "_________________________________________________________________\n",
      "dropout (Dropout)            (None, 512)               0         \n",
      "_________________________________________________________________\n",
      "dense_1 (Dense)              (None, 512)               262656    \n",
      "_________________________________________________________________\n",
      "activation_1 (Activation)    (None, 512)               0         \n",
      "_________________________________________________________________\n",
      "batch_normalization_1 (Batch (None, 512)               2048      \n",
      "_________________________________________________________________\n",
      "dropout_1 (Dropout)          (None, 512)               0         \n",
      "_________________________________________________________________\n",
      "dense_2 (Dense)              (None, 2)                 1026      \n",
      "_________________________________________________________________\n",
      "activation_2 (Activation)    (None, 2)                 0         \n",
      "=================================================================\n",
      "WARNING:tensorflow:Discrepancy between trainable weights and collected trainable weights, did you set `model.trainable` without calling `model.compile` after ?\n",
      "Total params: 12,097,858\n",
      "Trainable params: 4,460,546\n",
      "Non-trainable params: 7,637,312\n",
      "_________________________________________________________________\n"
     ]
    }
   ],
   "source": [
    "# Проверяем количество обучаемых параметров\n",
    "model.summary()"
   ]
  },
  {
   "cell_type": "code",
   "execution_count": 31,
   "metadata": {},
   "outputs": [],
   "source": [
    "model.compile(loss=\"binary_crossentropy\", \n",
    "              optimizer=SGD(lr=SPEED, momentum=0.9, decay= SPEED / EPOCHS),\n",
    "              metrics=[\"accuracy\"])"
   ]
  },
  {
   "cell_type": "code",
   "execution_count": 32,
   "metadata": {},
   "outputs": [
    {
     "name": "stdout",
     "output_type": "stream",
     "text": [
      "WARNING:tensorflow:sample_weight modes were coerced from\n",
      "  ...\n",
      "    to  \n",
      "  ['...']\n",
      "Train for 52 steps, validate on 832 samples\n",
      "Epoch 1/20\n",
      "52/52 [==============================] - 586s 11s/step - loss: 0.1909 - accuracy: 0.9369 - val_loss: 4.9436 - val_accuracy: 0.3930\n",
      "Epoch 2/20\n",
      "52/52 [==============================] - 575s 11s/step - loss: 0.1365 - accuracy: 0.9492 - val_loss: 0.2015 - val_accuracy: 0.9399\n",
      "Epoch 3/20\n",
      "52/52 [==============================] - 576s 11s/step - loss: 0.0989 - accuracy: 0.9627 - val_loss: 0.7607 - val_accuracy: 0.7320\n",
      "Epoch 4/20\n",
      "52/52 [==============================] - 576s 11s/step - loss: 0.0852 - accuracy: 0.9700 - val_loss: 0.3297 - val_accuracy: 0.9219\n",
      "Epoch 5/20\n",
      "52/52 [==============================] - 576s 11s/step - loss: 0.0786 - accuracy: 0.9730 - val_loss: 0.0696 - val_accuracy: 0.9712\n",
      "Epoch 6/20\n",
      "52/52 [==============================] - 576s 11s/step - loss: 0.0714 - accuracy: 0.9733 - val_loss: 0.1822 - val_accuracy: 0.9375\n",
      "Epoch 7/20\n",
      "52/52 [==============================] - 576s 11s/step - loss: 0.0717 - accuracy: 0.9730 - val_loss: 0.0383 - val_accuracy: 0.9856\n",
      "Epoch 8/20\n",
      "52/52 [==============================] - 576s 11s/step - loss: 0.0607 - accuracy: 0.9793 - val_loss: 0.1121 - val_accuracy: 0.9688\n",
      "Epoch 9/20\n",
      "52/52 [==============================] - 576s 11s/step - loss: 0.0766 - accuracy: 0.9745 - val_loss: 0.0304 - val_accuracy: 0.9892\n",
      "Epoch 10/20\n",
      "52/52 [==============================] - 576s 11s/step - loss: 0.0744 - accuracy: 0.9739 - val_loss: 0.0412 - val_accuracy: 0.9868\n",
      "Epoch 11/20\n",
      "52/52 [==============================] - 576s 11s/step - loss: 0.0517 - accuracy: 0.9829 - val_loss: 0.0848 - val_accuracy: 0.9772\n",
      "Epoch 12/20\n",
      "52/52 [==============================] - 611s 12s/step - loss: 0.0526 - accuracy: 0.9796 - val_loss: 0.0380 - val_accuracy: 0.9844\n",
      "Epoch 13/20\n",
      "52/52 [==============================] - 593s 11s/step - loss: 0.0310 - accuracy: 0.9898 - val_loss: 0.0457 - val_accuracy: 0.9844\n",
      "Epoch 14/20\n",
      "52/52 [==============================] - 598s 11s/step - loss: 0.0517 - accuracy: 0.9820 - val_loss: 0.0420 - val_accuracy: 0.9844\n",
      "Epoch 15/20\n",
      "52/52 [==============================] - 612s 12s/step - loss: 0.0387 - accuracy: 0.9856 - val_loss: 0.0595 - val_accuracy: 0.9796\n",
      "Epoch 16/20\n",
      "52/52 [==============================] - 597s 11s/step - loss: 0.0428 - accuracy: 0.9859 - val_loss: 0.0876 - val_accuracy: 0.9724\n",
      "Epoch 17/20\n",
      "52/52 [==============================] - 607s 12s/step - loss: 0.0404 - accuracy: 0.9847 - val_loss: 0.0528 - val_accuracy: 0.9844\n",
      "Epoch 18/20\n",
      "52/52 [==============================] - 635s 12s/step - loss: 0.0354 - accuracy: 0.9871 - val_loss: 0.0480 - val_accuracy: 0.9820\n",
      "Epoch 19/20\n",
      "52/52 [==============================] - 633s 12s/step - loss: 0.0299 - accuracy: 0.9913 - val_loss: 0.0282 - val_accuracy: 0.9880\n",
      "Epoch 20/20\n",
      "52/52 [==============================] - 623s 12s/step - loss: 0.0228 - accuracy: 0.9919 - val_loss: 0.0458 - val_accuracy: 0.9868\n"
     ]
    }
   ],
   "source": [
    "# Обучение\n",
    "history = model.fit_generator(\n",
    "                datagen.flow(x_train, y_train, batch_size=BATCH_SIZE),\n",
    "                validation_data=(x_val, y_val),\n",
    "                steps_per_epoch=x_train.shape[0] // BATCH_SIZE,\n",
    "                epochs=20,\n",
    "                class_weight=classWeight,\n",
    "                verbose=1)"
   ]
  },
  {
   "cell_type": "code",
   "execution_count": 33,
   "metadata": {},
   "outputs": [
    {
     "name": "stdout",
     "output_type": "stream",
     "text": [
      "Точность работы на валидационных данных: 98.68%\n"
     ]
    }
   ],
   "source": [
    "qual = model.evaluate(x_val, y_val, verbose=0)\n",
    "print(\"Точность работы на валидационных данных: %.2f%%\" % (qual[1]*100))"
   ]
  },
  {
   "cell_type": "markdown",
   "metadata": {},
   "source": [
    "## Сохранение обученной сети"
   ]
  },
  {
   "cell_type": "code",
   "execution_count": 34,
   "metadata": {},
   "outputs": [],
   "source": [
    "#сохранить модель\n",
    "model.save(\"C:/Users/Marinka/Desktop/pract/fire-detection/FireDetection-vgg16.h5\")"
   ]
  }
 ],
 "metadata": {
  "kernelspec": {
   "display_name": "Python 3",
   "language": "python",
   "name": "python3"
  },
  "language_info": {
   "codemirror_mode": {
    "name": "ipython",
    "version": 3
   },
   "file_extension": ".py",
   "mimetype": "text/x-python",
   "name": "python",
   "nbconvert_exporter": "python",
   "pygments_lexer": "ipython3",
   "version": "3.7.4"
  }
 },
 "nbformat": 4,
 "nbformat_minor": 2
}
