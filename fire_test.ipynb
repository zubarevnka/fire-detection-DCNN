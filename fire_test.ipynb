{
 "cells": [
  {
   "cell_type": "markdown",
   "metadata": {},
   "source": [
    "# Проверка работы сети на тестовой выборке"
   ]
  },
  {
   "cell_type": "code",
   "execution_count": 2,
   "metadata": {},
   "outputs": [],
   "source": [
    "import matplotlib\n",
    "from tensorflow.keras.preprocessing.image import ImageDataGenerator\n",
    "from tensorflow.keras.optimizers import SGD\n",
    "from tensorflow.keras.utils import to_categorical\n",
    "from sklearn.model_selection import train_test_split\n",
    "from sklearn.metrics import classification_report\n",
    "import matplotlib.pyplot as plt\n",
    "%matplotlib inline \n",
    "import numpy as np\n",
    "import argparse\n",
    "import sys"
   ]
  },
  {
   "cell_type": "code",
   "execution_count": 3,
   "metadata": {},
   "outputs": [],
   "source": [
    "import cv2"
   ]
  },
  {
   "cell_type": "code",
   "execution_count": 4,
   "metadata": {},
   "outputs": [],
   "source": [
    "from imutils import paths"
   ]
  },
  {
   "cell_type": "code",
   "execution_count": 5,
   "metadata": {},
   "outputs": [],
   "source": [
    "import os"
   ]
  },
  {
   "cell_type": "code",
   "execution_count": 6,
   "metadata": {},
   "outputs": [],
   "source": [
    "from tensorflow.keras.models import load_model"
   ]
  },
  {
   "cell_type": "markdown",
   "metadata": {},
   "source": [
    "## Подготовка данных"
   ]
  },
  {
   "cell_type": "code",
   "execution_count": 7,
   "metadata": {},
   "outputs": [],
   "source": [
    "FIRE_TEST_PATH = \"C:/Users/Marinka/Desktop/pract/fire-detection/test/fire\"\n",
    "NO_FIRE_TEST_PATH = \"C:/Users/Marinka/Desktop/pract/fire-detection/test/nofire\""
   ]
  },
  {
   "cell_type": "code",
   "execution_count": 8,
   "metadata": {},
   "outputs": [],
   "source": [
    "# инициализировать метки классов в наборе данных\n",
    "CLASSES_NAMES = [\"NoFire\", \"Fire\"]"
   ]
  },
  {
   "cell_type": "code",
   "execution_count": 9,
   "metadata": {},
   "outputs": [],
   "source": [
    "# функция, которая принимает путь к набору данных\n",
    "def load_dataset(datasetPath):\n",
    "    # путь к изображениям\n",
    "    imagePaths = list(paths.list_images(datasetPath))\n",
    "    data = []\n",
    "\n",
    "    for imagePath in imagePaths:\n",
    "        # загрузка изображений и изменение их размеров до 128x128 пикселей, \n",
    "        # игнорируя соотношение сторон\n",
    "        image = cv2.imread(imagePath)\n",
    "        image = cv2.resize(image, (128, 128))\n",
    "\n",
    "        # добавить изображение в список data\n",
    "        data.append(image)\n",
    "\n",
    "    # array возвращает список data  в формате массива NumPy\n",
    "    return np.array(data, dtype=\"float32\")"
   ]
  },
  {
   "cell_type": "code",
   "execution_count": 10,
   "metadata": {},
   "outputs": [],
   "source": [
    "import numpy as np\n",
    "# загрузка изображений с огнем и без огня\n",
    "fireData = load_dataset(FIRE_TEST_PATH)\n",
    "noFireData = load_dataset(NO_FIRE_TEST_PATH)\n",
    "\n",
    "# конструирование меток для классов, 1 - пожар, 0 -нет пожара\n",
    "fireLabels = np.ones((fireData.shape[0],))\n",
    "noFireLabels = np.zeros((noFireData.shape[0],))\n"
   ]
  },
  {
   "cell_type": "code",
   "execution_count": 11,
   "metadata": {},
   "outputs": [],
   "source": [
    "# функция vstack() соединяет массивы по вертикали\n",
    "data = np.vstack([fireData, noFireData])\n",
    "# функция hstack() соединяет массивы по горизонтали\n",
    "labels = np.hstack([fireLabels, noFireLabels])\n",
    "\n",
    "# масштабировать интенсивность пикселей до диапазона [0, 1]\n",
    "data /= 255"
   ]
  },
  {
   "cell_type": "code",
   "execution_count": 12,
   "metadata": {},
   "outputs": [],
   "source": [
    "# данные правильных ответов из номеров классов в категориальное представление\n",
    "labels = to_categorical(labels, num_classes=2)"
   ]
  },
  {
   "cell_type": "code",
   "execution_count": 13,
   "metadata": {},
   "outputs": [],
   "source": [
    "# разделение на выборку для обучения и выборку для тестирования (0 / 100%) \n",
    "#x_train -изображения, y_train -метки для обозначения класса\n",
    "(x_train, x_test, y_train, y_test) = train_test_split(data, labels,\n",
    "    test_size=0.999, \n",
    "    random_state=42\n",
    "  )"
   ]
  },
  {
   "cell_type": "markdown",
   "metadata": {},
   "source": [
    "## Оценка качетсва обучения сети на тестовой выборке"
   ]
  },
  {
   "cell_type": "code",
   "execution_count": 44,
   "metadata": {},
   "outputs": [
    {
     "name": "stdout",
     "output_type": "stream",
     "text": [
      "Точность работы на тестовых данных: 91.41%\n"
     ]
    }
   ],
   "source": [
    "#33 \n",
    "model = load_model('C:/Users/Marinka/Desktop/pract/fire-detection/FireDetection.h5')\n",
    "scores = model.evaluate(x_test, y_test, verbose=0)\n",
    "print(\"Точность работы на тестовых данных: %.2f%%\" % (scores[1]*100))"
   ]
  },
  {
   "cell_type": "markdown",
   "metadata": {},
   "source": [
    "## VGG"
   ]
  },
  {
   "cell_type": "code",
   "execution_count": 14,
   "metadata": {},
   "outputs": [
    {
     "name": "stdout",
     "output_type": "stream",
     "text": [
      "Точность работы на тестовых данных: 94.02%\n"
     ]
    }
   ],
   "source": [
    "model = load_model('C:/Users/Marinka/Desktop/pract/fire-detection/FireDetection-vgg16_finetuning.h5')\n",
    "scores = model.evaluate(x_test, y_test, verbose=0)\n",
    "print(\"Точность работы на тестовых данных: %.2f%%\" % (scores[1]*100))"
   ]
  }
 ],
 "metadata": {
  "kernelspec": {
   "display_name": "Python 3",
   "language": "python",
   "name": "python3"
  },
  "language_info": {
   "codemirror_mode": {
    "name": "ipython",
    "version": 3
   },
   "file_extension": ".py",
   "mimetype": "text/x-python",
   "name": "python",
   "nbconvert_exporter": "python",
   "pygments_lexer": "ipython3",
   "version": "3.7.4"
  }
 },
 "nbformat": 4,
 "nbformat_minor": 2
}
